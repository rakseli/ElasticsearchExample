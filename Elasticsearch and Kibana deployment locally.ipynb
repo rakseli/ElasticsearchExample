{
 "cells": [
  {
   "cell_type": "markdown",
   "metadata": {},
   "source": [
    "# Elasticsearch and Kibana\n",
    "\n",
    "Whole notebook is based in Elasticsearch 8.0 documentation. In case something is missing, refer to current version [documentation](https://www.elastic.co/guide/en/elasticsearch/reference/8.0/).\n",
    "\n",
    "1. Download Elasticseach, Kibana and Elasticsearch for Python\n",
    "2. Configure Elasticsearch and Kibana\n",
    "    1. Setup security\n",
    "        - This is mandatory if system has multiple users\n",
    "        - May be skipped if you are the only user of the system\n",
    "3. Creating index in Python\n",
    "    1. Creating index from structured data with explicit mapping\n",
    "4. Searching with Python\n",
    "5. Visualization with Kibana"
   ]
  },
  {
   "cell_type": "markdown",
   "metadata": {},
   "source": [
    "## Download Elasticseach and Kibana\n",
    "- Elasticsearch is built using Java, and includes a bundled version of OpenJDK from the JDK maintainers (GPLv2+CE) within each distribution \n",
    "- The bundled JVM is the recommended JVM and is located within the jdk directory of the Elasticsearch home directory.\n",
    "- Elasticsearch directory is known as ```$ES_HOME```, add it to your .bashrc\n",
    "- Kibana directory is knows as ```$KIBANA_HOME```, add it to your .bashrc\n",
    "- Both programs can be stopped by ```CTRL + C```"
   ]
  },
  {
   "cell_type": "code",
   "execution_count": null,
   "metadata": {},
   "outputs": [],
   "source": [
    "#!wget https://artifacts.elastic.co/downloads/elasticsearch/elasticsearch-8.0.0-linux-x86_64.tar.gz\n",
    "#!wget https://artifacts.elastic.co/downloads/elasticsearch/elasticsearch-8.0.0-linux-x86_64.tar.gz.sha512\n",
    "#!shasum -a 512 -c elasticsearch-8.0.0-linux-x86_64.tar.gz.sha512\n",
    "#!tar -xzf elasticsearch-8.0.0-linux-x86_64.tar.gz\n",
    "#!wget https://artifacts.elastic.co/downloads/kibana/kibana-8.0.0-linux-x86_64.tar.gz\n",
    "#!wget https://artifacts.elastic.co/downloads/kibana/kibana-8.0.0-linux-x86_64.tar.gz.sha512 | shasum -a 512 -c kibana-8.0.0-linux-x86_64.tar.gz.sha512\n",
    "#!tar -xzf kibana-8.0.0-linux-x86_64.tar.gz\n",
    "#Create new conda environment\n",
    "#!conda create --name elasticsearch\n",
    "#!conda activate elasticsearch\n",
    "#!conda install -c conda-forge elasticsearch "
   ]
  },
  {
   "cell_type": "markdown",
   "metadata": {},
   "source": [
    "## Configuring Elasticsearch\n",
    "1. Start Elasticsearch, this works only if you have set the bin to your PATH\n",
    "\n",
    "```sh\n",
    "elasticsearch\n",
    "```\n",
    "- When starting Elasticsearch for the first time, some security features are enabled and configured by default &rarr; the following security configuration occurs automatically:\n",
    "\n",
    "- Authentication and authorization are enabled, and a password is generated for the elastic built-in superuser\n",
    "- Certificates and keys for TLS are generated for the transport and HTTP layer, and TLS is enabled and configured with these keys and certificates\n",
    "- An enrollment token is generated for Kibana, which is valid for 30 minutes.\n",
    "- If you are not able to setup Kibana in  30min, run  ```elasticsearch-create-enrollment-token -s kibana```\n",
    "- Save the ```elastic``` user password\n",
    "\n",
    "\n",
    "2. Shutdown Elasticsearch with and start Elasticsearch as a daemon\n",
    "\n",
    "```sh\n",
    "elasticsearch -d -p pid\n",
    "```\n",
    "- The saved ```pid``` can be found in ```$ES_HOME```\n",
    "\n",
    "3. Check that Elasticsearch is running\n",
    "\n",
    "```sh\n",
    "curl --cacert $ES_HOME/certs/http_ca.crt -u elastic https://localhost:9200 \n",
    "```\n",
    "\n",
    "4. Shutdown the daemon\n",
    "\n",
    "```sh\n",
    "kill pid\n",
    "\n",
    "```\n",
    "\n",
    "## Configure Kibana\n",
    "\n",
    "1. **Encrypt traffic between Kibana and Elasticsearch**\n",
    "    1. Add encryption keys for Kibana dashboards/visualizations, saved reports and session information\n",
    "    \n",
    "        1. Generate keys by running ```kibana-encryption-keys generate```, this outputs keys to console\n",
    "        \n",
    "        2. Add keys (```xpack.encryptedSavedObjects.encryptionKey, xpack.reporting.encryptionKey, \n",
    "        xpack.security.encryptionKey```) to ```$KIBANA_HOME/config/kibana.yml```\n",
    "        \n",
    "2. **Encrypt traffic between your browser and Kibana**\n",
    "    1. Make local Certificate Authority\n",
    "        1. Make ```certs``` directory\n",
    "        2. Run ```openssl genrsa -des3 -out myCA.key 2048``` to become local Certificate Authority &rarr; give passphare\n",
    "        3. Generate a root certificate ```openssl req -x509 -new -nodes -key myCA.key -sha512 -out myCA.pem``` &rarr; give passpharase &rarr; Give something recognizible for ```Common name``` eg. Self Produced CA\n",
    "    2. Add the root certificate to Linux\n",
    "        1. Install ca-certificates if not installed\n",
    "        2. Copy ```myCA.pem``` to ```/usr/local/share/ca-certificates``` as ```myCA.crt```\n",
    "        3. Update certificate store ```sudo update-ca-certificates```\n",
    "        4. Test that the certificate has been installed ```awk -v cmd='openssl x509 -noout -subject' '/BEGIN/{close(cmd)};{print | cmd}' < /etc/ssl/certs/ca-certificates.crt | grep \"Self Produced CA\"```\n",
    "    3. Generate a server certificate and private key for Kibana ```elasticsearch-certutil csr -name kibana-server -dns localhost``` &rarr;  generates a ```csr-bundle.zip``` file\n",
    "        1. Unzip the ```csr-bundle.zip``` file to obtain the ```kibana-server.csr``` unsigned security certificate and the ```kibana-server.key``` unencrypted private key\n",
    "        2. Sign your key\n",
    "            1. Create X509 V3 certificate extension file for defining SAN for the certificate &rarr; ```kibana.ext``` to certs folder\n",
    "            2. ```sh\n",
    "              authorityKeyIdentifier=keyid,issuer \n",
    "              basicConstraints=CA:FALSE\n",
    "              keyUsage = digitalSignature, nonRepudiation, keyEncipherment, dataEncipherment\n",
    "              subjectAltName = @alt_names\n",
    "              [alt_names]\n",
    "              DNS.1 = localhost\n",
    "              ```\n",
    "            3. Sign the cert by running  ```openssl x509 -req -in kibana-server.csr -CA myCA.pem -CAkey myCA.key -CAcreateserial -out kibana-server.crt -days 825 -sha256 -extfile kibana.ext``` \n",
    "        3. Copy the signed certificate crs and key to ```$KIBANA_HOME/config```\n",
    "        4. Add lines ```server.ssl.certificate: $KBN_PATH_CONF/kibana-server.crt```, ```server.ssl.key: $KBN_PATH_CONF/kibana-server.key```, ```server.ssl.enabled: true```, and ```elasticsearch.hosts: [\"https://localhost:9200\"]``` to ```$KIBANA_HOME/config/kibana.yml```\n",
    "        5. Change ```xpack.fleet.outputs``` hosts to ```[\"https://localhost:9200\"]```\n",
    "    \n",
    "3. **Start Kibana, this works only if you have set the bin to your PATH**\n",
    "```sh\n",
    "kibana\n",
    "```\n",
    "- when first time you’re starting Kibana, this command generates a unique link in your terminal to enroll your Kibana instance with Elasticsearch\n",
    "- In your terminal, click the generated link to open Kibana in your browser\n",
    "- In your browser, paste the enrollment token that was generated in the terminal when you started Elasticsearch, and then click the button to connect your Kibana instance with Elasticsearch\n",
    "- Log in to Kibana as the elastic user with the password that was generated when you started Elasticsearch\n",
    "- After first login Kibana login page can be found ```https://localhost:5601```\n",
    "4. **Go to Stack management &rarr; Advanced Settings**\n",
    "- Disable Usage Data\n",
    "\n",
    "5. **Generate API key**\n",
    "    1. Stack management &rarr; Security &rarr; API Keys\n",
    "    2. Create API key\n",
    "    3. Copy the key as json to safe place\n"
   ]
  },
  {
   "cell_type": "markdown",
   "metadata": {},
   "source": [
    "## Connecting to Elasticsearch with API key"
   ]
  },
  {
   "cell_type": "code",
   "execution_count": 1,
   "metadata": {},
   "outputs": [
    {
     "data": {
      "text/plain": [
       "'You Know, for Search'"
      ]
     },
     "execution_count": 1,
     "metadata": {},
     "output_type": "execute_result"
    }
   ],
   "source": [
    "import warnings\n",
    "#verify_certs=False creates a warning, but we can ignore this since we take good care of our API key\n",
    "warnings.filterwarnings('ignore')\n",
    "from elasticsearch import Elasticsearch\n",
    "from seacrets import api_key_id, api_key\n",
    "es = Elasticsearch([\"https://localhost:9200\"],api_key=(api_key_id,api_key),verify_certs=False)\n",
    "es.info()['tagline']"
   ]
  },
  {
   "cell_type": "markdown",
   "metadata": {},
   "source": [
    "## Creating index from structured data with explicit mapping\n",
    "\n",
    "### Get the data"
   ]
  },
  {
   "cell_type": "code",
   "execution_count": 2,
   "metadata": {},
   "outputs": [],
   "source": [
    "#Download Elevate Berlin record shop catalogy\n",
    "#!wget -O elevate_berlin.json https://elevate.berlin/collections/all-vinyl.oembed\n",
    "import json\n",
    "with open('elevate_berlin.json','r') as f:\n",
    "    data = json.load(f)"
   ]
  },
  {
   "cell_type": "code",
   "execution_count": 3,
   "metadata": {},
   "outputs": [
    {
     "name": "stdout",
     "output_type": "stream",
     "text": [
      "dict_keys(['product_id', 'title', 'description', 'brand', 'offers', 'thumbnail_url'])\n",
      "{'product_id': 'beste-modus-07', 'title': 'Beste Modus 07 (BESTE007)', 'description': '<iframe width=\"100%\" height=\"166\" scrolling=\"no\" frameborder=\"no\" allow=\"autoplay\" src=\"https://w.soundcloud.com/player/?url=https%3A//api.soundcloud.com/tracks/311536058&amp;color=%23ff5500&amp;auto_play=false&amp;hide_related=true&amp;show_comments=false&amp;show_user=false&amp;show_reposts=false&amp;show_teaser=false\"></iframe>\\n<p>\\xa0</p>\\n<meta charset=\"utf-8\">\\n<div class=\"BigCoverZoom Mytransition\">\\n<div id=\"mainfinfo_left\" class=\"contrastBG\">\\n<div class=\"DT_oneline\">\\n<div class=\"detail_artist lightCol mainColBG\"></div>\\n<div class=\"detail_artist lightCol mainColBG\"></div>\\n<div class=\"detail_artist lightCol mainColBG\">A1: Cinthie - Back to garage</div>\\n</div>\\n</div>\\n<div class=\"goback contrastBG\">A2: Cinthie - Hold\\'em</div>\\n<div class=\"goback contrastBG\">B1: stevn.aint.leavn - Isn\\'t it</div>\\n<div class=\"goback contrastBG\">B2: stevn.aint.leavn - Sub Marino</div>\\n</div>\\n<div id=\"detail_maininfos\">\\n<div id=\"mainfinfo_full\">\\n<div id=\"detail_cover\">\\n<div class=\"infoLabelImp\">\\n<div id=\"info_label\" class=\"filter-me\"><a href=\"https://www.decks.de/decks/workfloor/lists/findLabel.php?label=beste-modus\" rel=\"follow\" title=\"All Beste-modus Records Releases on decks.de\"></a></div>\\n</div>\\n</div>\\n<div id=\"maininfo_fullleft\">\\n<div id=\"info_sound\">\\n<div class=\"soundBlockdetail\">\\n<div class=\"SoundList\" id=\"SL_c9lbm\">\\n<div class=\"OneListen\"></div>\\n</div>\\n</div>\\n</div>\\n</div>\\n</div>\\n</div>', 'brand': 'Elevate Berlin', 'offers': [{'title': 'Default Title', 'offer_id': 5423296413728, 'sku': '0', 'price': 9.0, 'currency_code': 'EUR', 'in_stock': True}], 'thumbnail_url': '//cdn.shopify.com/s/files/1/2608/6834/products/beste007.jpg?v=1571711720'}\n"
     ]
    }
   ],
   "source": [
    "products = data['products']\n",
    "#get the keys of product dict§\n",
    "print(products[0].keys())\n",
    "print(products[0])"
   ]
  },
  {
   "cell_type": "markdown",
   "metadata": {},
   "source": [
    "### Define settings and mapping\n",
    "\n",
    "\n",
    "#### Settings\n",
    "- Settings contain information about index itself\n",
    "\n",
    "```python\n",
    "{\"settings\": {\n",
    "  \"number_of_shards\": 1,\n",
    "  \"number_of_replicas\": 0\n",
    "  \"index\": {\n",
    "      \"similarity\": {\n",
    "        \"default\": {\n",
    "          \"type\": \"boolean\"\n",
    "      }\n",
    "    }\n",
    "  }\n",
    "}\n",
    "            \n",
    "            \n",
    "}\n",
    "```\n",
    "1. number_of_shards &rarr; for production\n",
    "2. number_of_replicas &rarr; for production\n",
    "3. index\n",
    "    1. similarity &rarr; defining document similarity\n",
    "    \n",
    "#### Mappings\n",
    "- Mapping is the schema of document &rarr; how a document and the fields it contais are stored and indexed\n",
    "- Each document is collection of fields which have their own datatype\n",
    "- Use explicit mapping when you know more about your data than Elasticsearch can guess\n",
    "- It is often useful to index the same field in different ways for different purposes\n",
    "- In Elasticsearch, objects are mapped implicitly by using the “properties” mapping parameter at each level of the hierarchy\n",
    "\n",
    "```python\n",
    "\"mappings\": {\"dynamic\": \"strict\",\n",
    "             \"coerce\": True,\n",
    "                \"properties\": {\n",
    "                    \"product_id\": {\n",
    "                        \"type\": \"text\"\n",
    "                    },\n",
    "                    \"title\": {\n",
    "                        \"type\": \"text\"\n",
    "                    },\n",
    "                    \"description\": {\n",
    "                        \"type\": \"text\"\n",
    "                    },\n",
    "                    \"brand\": {\n",
    "                        \"type\": \"keyword\"\n",
    "                    },\n",
    "                    \"offers\": {\n",
    "                        \"type\": \"nested\",\n",
    "                        \"properties\": {\n",
    "                            \"title\":    { \"type\": \"text\"  },\n",
    "                            \"offer_id\": { \"type\": \"text\"  },\n",
    "                            \"sku\":     { \"type\": \"integer\"   },\n",
    "                            \"price\":   { \"type\": \"integer\"   },\n",
    "                            \"currency_core\":    { \"type\": \"string\"    }\n",
    "                            \"in_stoc\":    { \"type\": \"boolean\"    }\n",
    "                    ,\n",
    "                    \"thumbnail_url\": {\n",
    "                        \"type\": \"text\"\n",
    "                    }\n",
    "                }\n",
    "            }\n",
    "        }\n",
    "```\n",
    "1. dynamic: strict &rarr;  rejects the document if Elasticsearch encounters an unknown field\n",
    "2. coare: true  &rarr; coercion is the conversion of one type of object to a another object of a different type with similar content\n",
    "1. type: keyword &rarr; text specialization which we need to look for exact values &rarr; used to sort, aggregate and filter documents\n",
    "2. type: nested &rarr; store multiple values for a field &rarr; flattens object hierarchies into a simple list of field names and values"
   ]
  },
  {
   "cell_type": "code",
   "execution_count": 4,
   "metadata": {},
   "outputs": [],
   "source": [
    "#settings and mappings\n",
    "settings = {\n",
    "        \"settings\": {\n",
    "            \n",
    "            \"number_of_shards\": 1,\n",
    "            \"number_of_replicas\": 0\n",
    "        },\n",
    "        \"mappings\": {\n",
    "                \"properties\": {\n",
    "                    \"product_id\": {\n",
    "                        \"type\": \"text\"\n",
    "                    },\n",
    "                    \"title\": {\n",
    "                        \"type\": \"text\"\n",
    "                    },\n",
    "                    \"description\": {\n",
    "                        \"type\": \"text\"\n",
    "                    },\n",
    "                    \"brand\": {\n",
    "                        \"type\": \"keyword\"\n",
    "                    },\n",
    "                    \"offers\": {\n",
    "                        \"type\": \"nested\",\n",
    "                        \"properties\": {\n",
    "                            \"title\":    {\"type\": \"text\"},\n",
    "                            \"offer_id\": {\"type\": \"text\"},\n",
    "                            \"sku\":     {\"type\": \"integer\"},\n",
    "                            \"price\":   {\"type\": \"float\"},\n",
    "                            \"currency_core\":    {\"type\": \"text\"},\n",
    "                            \"in_stoc\":    {\"type\": \"boolean\"},\n",
    "                    \n",
    "                    \"thumbnail_url\": {\n",
    "                        \"type\": \"text\"\n",
    "                    }\n",
    "                }\n",
    "            }\n",
    "        }\n",
    "}\n",
    "    \n",
    "}\n",
    "#function to create index\n",
    "def create_index(es_object,settings_dict,index_name):\n",
    "    created=False\n",
    "    if not es_object.indices.exists(index=index_name):\n",
    "        es_object.indices.create(index=index_name,body=settings_dict)\n",
    "        created = True\n",
    "        \n",
    "    return created\n",
    "\n"
   ]
  },
  {
   "cell_type": "code",
   "execution_count": 5,
   "metadata": {},
   "outputs": [
    {
     "name": "stdout",
     "output_type": "stream",
     "text": [
      "Index created: False\n",
      "{'record_data': {'mappings': {'properties': {'brand': {'type': 'keyword'}, 'description': {'type': 'text'}, 'offers': {'type': 'nested', 'properties': {'currency_code': {'type': 'text', 'fields': {'keyword': {'type': 'keyword', 'ignore_above': 256}}}, 'currency_core': {'type': 'text'}, 'in_stoc': {'type': 'boolean'}, 'in_stock': {'type': 'boolean'}, 'offer_id': {'type': 'text'}, 'price': {'type': 'float'}, 'sku': {'type': 'integer'}, 'thumbnail_url': {'type': 'text'}, 'title': {'type': 'text'}}}, 'product_id': {'type': 'text'}, 'thumbnail_url': {'type': 'text', 'fields': {'keyword': {'type': 'keyword', 'ignore_above': 256}}}, 'title': {'type': 'text'}}}}}\n"
     ]
    }
   ],
   "source": [
    "#create index\n",
    "print(f'Index created: {create_index(es,settings,\"record_data\")}')\n",
    "#delete index\n",
    "#es.indices.delete(index='record_data', ignore=[400, 404])\n",
    "#see if you return the correct mapping\n",
    "print(es.indices.get_mapping(index='record_data'))"
   ]
  },
  {
   "cell_type": "code",
   "execution_count": 7,
   "metadata": {},
   "outputs": [],
   "source": [
    "#add data to index\n",
    "def store_document(elastic_object, index_name, document,id):\n",
    "    if elastic_object.exists(index=index_name,id=id):\n",
    "        print(f\"Document id: {id} already exists in index\")\n",
    "    else:\n",
    "        elastic_object.index(index=index_name, body=document,id=id)\n",
    "        print(f\"Document id: {id} added to index\")"
   ]
  },
  {
   "cell_type": "code",
   "execution_count": null,
   "metadata": {},
   "outputs": [],
   "source": [
    "#store all documents from our data, each record should be as dict\n",
    "for i,d in enumerate(products):\n",
    "    store_document(es,\"record_data\",d,i)"
   ]
  },
  {
   "cell_type": "code",
   "execution_count": 8,
   "metadata": {},
   "outputs": [
    {
     "name": "stdout",
     "output_type": "stream",
     "text": [
      "{'_index': 'record_data', '_id': '1', '_version': 1, '_seq_no': 1, '_primary_term': 1, 'found': True, '_source': {'product_id': 'beste-modus-06', 'title': 'Beste Modus 06 [BESTE006]', 'description': '<iframe width=\"100%\" height=\"166\" scrolling=\"no\" frameborder=\"no\" allow=\"autoplay\" src=\"https://w.soundcloud.com/player/?url=https%3A//api.soundcloud.com/tracks/226301864&amp;color=%23ff5500&amp;auto_play=false&amp;hide_related=true&amp;show_comments=false&amp;show_user=false&amp;show_reposts=false&amp;show_teaser=false\"></iframe>\\n<p>\\xa0</p>\\n<meta charset=\"utf-8\"><meta charset=\"utf-8\">\\n<div class=\"BigCoverZoom Mytransition\">\\n<div id=\"mainfinfo_left\" class=\"contrastBG\">\\n<div class=\"DT_oneline\">\\n<div class=\"detail_artist lightCol mainColBG\"></div>\\n</div>\\n<div class=\"DT_oneline\">\\n<div class=\"followMe LAFollow \" data-folge=\"beste-modus\" data-art=\"label\" onclick=\"toggleFollowMe(this);\"></div>\\n<div class=\"followMe LAFollow \" id=\"la_c6a-16\" data-folge=\"beste-modus\" data-art=\"label\" onclick=\"toggleFollowMe(this);\">A1: stevn.aint.leavn - Say my name</div>\\n<div class=\"followMe LAFollow \" data-folge=\"beste-modus\" data-art=\"label\" onclick=\"toggleFollowMe(this);\">A2: Cinthie - High in Hong Kong</div>\\n<div class=\"followMe LAFollow \" data-folge=\"beste-modus\" data-art=\"label\" onclick=\"toggleFollowMe(this);\">B1: Diego Krause - Nebula</div>\\n<div class=\"followMe LAFollow \" data-folge=\"beste-modus\" data-art=\"label\" onclick=\"toggleFollowMe(this);\">B2: Ed Herbst - Limelight</div>\\n</div>\\n</div>\\n</div>', 'brand': 'Elevate Berlin', 'offers': [{'title': 'Default Title', 'offer_id': 5423323643936, 'sku': '0', 'price': 9.0, 'currency_code': 'EUR', 'in_stock': True}], 'thumbnail_url': '//cdn.shopify.com/s/files/1/2608/6834/products/beste006_1f966f79-f1d6-48d9-89ee-fade55e49554.jpg?v=1571711720'}}\n"
     ]
    }
   ],
   "source": [
    "#get document with specific id\n",
    "print(es.get(index=\"record_data\", id=1))"
   ]
  },
  {
   "cell_type": "markdown",
   "metadata": {},
   "source": [
    "## Searching with Query DSL\n",
    "- DSL queries contais two clauses\n",
    "    1. leaf query clauses that look for a specific value in a specific field (e.g. a ```match``` or ```range```)\n",
    "    2. compound query clauses that are used to logically combine multiple queries (such as multiple leaf or compound queries) or to alter the behaviour of these queries\n",
    "- When you run a query against your index (or indices), ES sorts the results by a relevance score (a float) that represents the quality of the match (the _score field shows its value for each “hit”"
   ]
  },
  {
   "cell_type": "code",
   "execution_count": 9,
   "metadata": {},
   "outputs": [],
   "source": [
    "#search\n",
    "def search(es_object, index_name, search):\n",
    "    res = es_object.search(index=index_name, body=search)\n",
    "    res = dict(res)\n",
    "    return res"
   ]
  },
  {
   "cell_type": "markdown",
   "metadata": {},
   "source": [
    "### Query and filter context\n",
    "- In the query context, a query clause answers the question “How well does this document match this query clause?” \n",
    "- In a filter context, a query clause answers the question “Does this document match this query clause?”\n",
    "- Below example query matches documents where all following conditions are met\n",
    "- bool &rarr; The default query for combining multiple leaf or compound query clauses, as must, should, must_not, or filter clauses\n",
    "- must &rarr; The clause (query) must appear in matching documents and will contribute to the score.\n",
    "- match &rarr; The standard query for performing full text queries, including fuzzy matching and phrase or proximity queries\n",
    "- term &rarr; returns documents that contain an exact term in a provided field\n",
    "- range &rarr; Returns documents that contain terms within a provided range, gt Greater than, gte Greater than or equal to, lt Less than, lte, Less than or equal to.\n",
    "\n",
    "### Nested query\n",
    "\n",
    "- If you need to index arrays of objects and to maintain the independence of each object in the array, use the nested data type\n",
    "- You can now use a multi-level nested query to match documents \n",
    "\n"
   ]
  },
  {
   "cell_type": "code",
   "execution_count": 10,
   "metadata": {},
   "outputs": [],
   "source": [
    "import re\n",
    "tag_re = re.compile(r'(<!--.*?-->|<[^>]*>)')\n",
    "# Remove well-formed tags, fixing mistakes by legitimate users\n",
    "def query_maker(word,price):\n",
    "    query={\n",
    "        \"query\": {\n",
    "        \"bool\": {\n",
    "            \"must\": [\n",
    "                {\n",
    "                    \"match\": {\n",
    "                        \"description\": word\n",
    "                    }\n",
    "                },\n",
    "                {\n",
    "                    \"nested\": {\n",
    "                        \"path\": \"offers\",\n",
    "                        \"query\": {\n",
    "                            \"bool\": {\n",
    "                                \"must\": [\n",
    "                                    {\n",
    "                                        \"term\": {\n",
    "                                            \"offers.in_stock\":True\n",
    "                                        }\n",
    "                                    },\n",
    "                                    {\n",
    "                                        \"range\": {\n",
    "                                            \"offers.price\": {\n",
    "                                                \"gte\": price\n",
    "                                            }\n",
    "                                        }\n",
    "                                    }\n",
    "                                ]\n",
    "                            }\n",
    "                        }\n",
    "                    }\n",
    "                }\n",
    "            ]\n",
    "        }\n",
    "    }\n",
    "    }\n",
    "    return query"
   ]
  },
  {
   "cell_type": "markdown",
   "metadata": {},
   "source": [
    "1. ```description``` must contain \"detroit\"\n",
    "2. ```in_stoct``` must be true &rarr;this is inside nested object, so nested query must be used\n",
    "3. ```price``` must be 15 or larger &rarr; this is inside nested object, so nested query must be used"
   ]
  },
  {
   "cell_type": "code",
   "execution_count": 11,
   "metadata": {},
   "outputs": [
    {
     "name": "stdout",
     "output_type": "stream",
     "text": [
      "Title: V/A - Unity Vol.1 (Compiled by Norm Talley) (UAR005)\n",
      "Description: Detroit Deep House from New label Upstairs Asylum Recordings.\n",
      "Price: 30.0\n"
     ]
    }
   ],
   "source": [
    "#make the query\n",
    "query = query_maker(\"detroit\",15.0)\n",
    "#search\n",
    "result=search(es,'record_data',query)\n",
    "found_hits =result[\"hits\"]['total']['value']\n",
    "if found_hits>0:\n",
    "    result=result[\"hits\"]['hits']\n",
    "    if found_hits==1:\n",
    "        temp=result[0]\n",
    "        title = temp['_source']['title']\n",
    "        description=temp['_source']['description']\n",
    "        price = temp['_source']['offers'][0]['price']\n",
    "        # Remove well-formed tags, fixing mistakes by legitimate users\n",
    "        no_tags_d = tag_re.sub('', description)\n",
    "        no_tags_d = no_tags_d.strip()\n",
    "        no_tags_t = tag_re.sub('', title)\n",
    "        print(f\"Title: {no_tags_t}\")\n",
    "        print(f\"Description: {no_tags_d}\")\n",
    "        print(f\"Price: {price}\")\n",
    "\n",
    "    else:\n",
    "        for i,res in enumerate(result):\n",
    "            temp=result[i]\n",
    "            title = temp['_source']['title']\n",
    "            description=temp['_source']['description']\n",
    "            price = temp['_source']['offers'][0]['price']\n",
    "            # Remove well-formed tags, fixing mistakes by legitimate users\n",
    "            no_tags_d = tag_re.sub('', description)\n",
    "            no_tags_d = no_tags_d.strip()\n",
    "            no_tags_t = tag_re.sub('', title)\n",
    "            print(f\"Title: {no_tags_t} \\n\")\n",
    "            print(f\"Description: {no_tags_d} \\n\")\n",
    "            print(f\"Price: {price}\")\n",
    "            \n",
    "else:\n",
    "    print(\"No results found\")"
   ]
  }
 ],
 "metadata": {
  "kernelspec": {
   "display_name": "Python 3 (ipykernel)",
   "language": "python",
   "name": "python3"
  },
  "language_info": {
   "codemirror_mode": {
    "name": "ipython",
    "version": 3
   },
   "file_extension": ".py",
   "mimetype": "text/x-python",
   "name": "python",
   "nbconvert_exporter": "python",
   "pygments_lexer": "ipython3",
   "version": "3.10.0"
  }
 },
 "nbformat": 4,
 "nbformat_minor": 4
}
